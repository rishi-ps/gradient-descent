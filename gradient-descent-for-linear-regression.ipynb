{
 "cells": [
  {
   "cell_type": "code",
   "execution_count": 18,
   "metadata": {},
   "outputs": [],
   "source": [
    "import math, copy\n",
    "import numpy as np\n",
    "import matplotlib.pyplot as plt"
   ]
  },
  {
   "cell_type": "markdown",
   "metadata": {},
   "source": [
    "##### Automate the process of optimizing weight (w) and bias (b) using gradient descent."
   ]
  },
  {
   "cell_type": "code",
   "execution_count": 19,
   "metadata": {},
   "outputs": [],
   "source": [
    "# Load our data set\n",
    "\n",
    "x_train = np.array([1.0, 2.0])   # Features\n",
    "y_train = np.array([300.0, 500.0])   # Target value"
   ]
  },
  {
   "cell_type": "code",
   "execution_count": 20,
   "metadata": {},
   "outputs": [],
   "source": [
    "# Define cost function (Mean Square Cost Function)\n",
    "\n",
    "def compute_cost(x, y, w, b):\n",
    "    \n",
    "    m = x.shape[0]    # Number of training examples\n",
    "    cost_sum = 0\n",
    "\n",
    "    for i in range(m):\n",
    "        f_wb = w * x[i] + b      # Equation of line: y = m*x + c\n",
    "        cost = (f_wb - y[i])**2\n",
    "        cost_sum += cost\n",
    "    \n",
    "    total_cost = (1/(2*m)) * cost_sum\n",
    "\n",
    "    return total_cost"
   ]
  },
  {
   "cell_type": "code",
   "execution_count": 21,
   "metadata": {},
   "outputs": [],
   "source": [
    "# Define gradient function\n",
    "\n",
    "def compute_gradient(x, y, w, b):\n",
    "    \"\"\"\n",
    "    Computes the gradient for linear regression \n",
    "    Args:\n",
    "      x (ndarray (m,)): Data, m examples \n",
    "      y (ndarray (m,)): target values\n",
    "      w,b (scalar)    : model parameters  \n",
    "    Returns\n",
    "      dj_dw (scalar): The gradient of the cost w.r.t. the parameters w\n",
    "      dj_db (scalar): The gradient of the cost w.r.t. the parameter b     \n",
    "    \"\"\"\n",
    "\n",
    "    m = x.shape[0]    # Number of training examples\n",
    "    dj_dw = 0\n",
    "    dj_db = 0\n",
    "\n",
    "    for i in range(m):\n",
    "        f_wb = w*x[i] + b\n",
    "        dj_dw_i = (f_wb - y[i])*x[i]    # Obtained by taking gradient of cost function wrt. w\n",
    "        dj_db_i = f_wb - y[i]           # Obtained by taking gradient of cost function wrt. b\n",
    "        dj_dw += dj_dw_i\n",
    "        dj_db += dj_db_i\n",
    "    dj_dw = dj_dw/m\n",
    "    dj_db = dj_db/m\n",
    "\n",
    "    return dj_dw, dj_db     # Gradient of cost function wrt. w and wrt. b"
   ]
  },
  {
   "cell_type": "code",
   "execution_count": 22,
   "metadata": {},
   "outputs": [],
   "source": [
    "# Implement gradient descent\n",
    "\n",
    "def gradient_descent(x, y, w_in, b_in, alpha, num_iters, cost_function, gradient_function): \n",
    "\n",
    "    ''' \n",
    "    x                 = Features\n",
    "    y                 = Target Values\n",
    "    w_in              = Initial weight \n",
    "    b_in              = Initial bias\n",
    "    num_iters         = Number of iterations\n",
    "    cost_function     = Function to compute cost\n",
    "    gradient_function = Function to compute gradient\n",
    "    alpha             = \"learning rate\"\n",
    "\n",
    "    '''\n",
    "\n",
    "    print(f\"Iteration 0 | w: {w_in:.2f}, b: {b_in:.2f} | Cost: {cost_function(x, y, w_in, b_in):.2f}\")  # Print initial weight, bias and cost\n",
    "\n",
    "    for i in range(num_iters):\n",
    "        \n",
    "        w_in -= alpha * gradient_function(x, y, w_in, b_in)[0]   # Perform gradient descent\n",
    "        b_in -= alpha * gradient_function(x, y, w_in, b_in)[1]\n",
    "        \n",
    "        if i < 9 or i > num_iters-11:  # Printing results of first and last few iterations only\n",
    "            print(f\"Iteration {i+1} | w: {w_in:.2f}, b: {b_in:.2f} | Cost: {cost_function(x, y, w_in, b_in):.2f}\")\n",
    "        if i == 10:\n",
    "            print(f\"...           | ...                        |...                                       \") \n",
    "    \n",
    "    w_pred = w_in\n",
    "    b_pred = b_in\n",
    "\n",
    "    return w_pred, b_pred   # Return the weight and bias obtained after performing gradient descent"
   ]
  },
  {
   "cell_type": "code",
   "execution_count": null,
   "metadata": {},
   "outputs": [
    {
     "name": "stdout",
     "output_type": "stream",
     "text": [
      "Iteration 0 | w: 0.00, b: 0.00 | Cost: 85000.00\n",
      "Iteration 1 | w: 6.50, b: 3.90 | Cost: 79312.48\n",
      "Iteration 2 | w: 12.78, b: 7.67 | Cost: 74005.57\n",
      "Iteration 3 | w: 18.84, b: 11.31 | Cost: 69053.81\n",
      "Iteration 4 | w: 24.70, b: 14.83 | Cost: 64433.42\n",
      "Iteration 5 | w: 30.36, b: 18.22 | Cost: 60122.24\n",
      "Iteration 6 | w: 35.83, b: 21.51 | Cost: 56099.57\n",
      "Iteration 7 | w: 41.11, b: 24.67 | Cost: 52346.10\n",
      "Iteration 8 | w: 46.21, b: 27.73 | Cost: 48843.82\n",
      "Iteration 9 | w: 51.14, b: 30.69 | Cost: 45575.91\n",
      "...           | ...                        |...                                       \n",
      "Iteration 9991 | w: 199.99, b: 100.01 | Cost: 0.00\n",
      "Iteration 9992 | w: 199.99, b: 100.01 | Cost: 0.00\n",
      "Iteration 9993 | w: 199.99, b: 100.01 | Cost: 0.00\n",
      "Iteration 9994 | w: 199.99, b: 100.01 | Cost: 0.00\n",
      "Iteration 9995 | w: 199.99, b: 100.01 | Cost: 0.00\n",
      "Iteration 9996 | w: 199.99, b: 100.01 | Cost: 0.00\n",
      "Iteration 9997 | w: 199.99, b: 100.01 | Cost: 0.00\n",
      "Iteration 9998 | w: 199.99, b: 100.01 | Cost: 0.00\n",
      "Iteration 9999 | w: 199.99, b: 100.01 | Cost: 0.00\n",
      "Iteration 10000 | w: 199.99, b: 100.01 | Cost: 0.00\n"
     ]
    },
    {
     "data": {
      "text/plain": [
       "(199.99403673949487, 100.00964679931117)"
      ]
     },
     "execution_count": 23,
     "metadata": {},
     "output_type": "execute_result"
    }
   ],
   "source": [
    "# Implement gradient descent for our training set (x_train, y_train)\n",
    "\n",
    "gradient_descent(x_train, y_train, 0, 0, 0.01, 10000, compute_cost, compute_gradient)"
   ]
  },
  {
   "cell_type": "markdown",
   "metadata": {},
   "source": [
    "##### Therefore, our linear model is &nbsp;&nbsp;&nbsp;  y = 199.994 * x + 100.0096"
   ]
  },
  {
   "cell_type": "code",
   "execution_count": 24,
   "metadata": {},
   "outputs": [
    {
     "data": {
      "image/png": "[encoded data removed]",
      "text/plain": [
       "<Figure size 640x480 with 1 Axes>"
      ]
     },
     "metadata": {},
     "output_type": "display_data"
    }
   ],
   "source": [
    "# Define function to plot iterations vs cost graph\n",
    "\n",
    "def iterations_vs_cost_plot(x, y, num_iters, costs, w_in, b_in, alpha, gradient_function, compute_cost):\n",
    "    \n",
    "    costs = np.array([compute_cost(x_train, y_train, w_in, b_in)])  # Initial cost\n",
    "\n",
    "    for i in range(num_iters):\n",
    "        # Update weights and bias using gradient descent\n",
    "        w_in -= alpha * gradient_function(x, y, w_in, b_in)[0]\n",
    "        b_in -= alpha * gradient_function(x, y, w_in, b_in)[1]\n",
    "        \n",
    "        # Compute and store the cost\n",
    "        cost = compute_cost(x, y, w_in, b_in)\n",
    "        costs = np.append(costs, cost)\n",
    "       \n",
    "    # Plot iterations vs costs after the loop\n",
    "    plt.plot(np.arange(num_iters+1), costs, marker='o', ms=3, ls='')  # Exclude initial cost\n",
    "    plt.xlabel(\"Iterations\")\n",
    "    plt.ylabel(\"Costs\")\n",
    "    plt.title(\"Iterations vs Cost\")\n",
    "    plt.show()\n",
    "\n",
    "# Example Usage\n",
    "num_iters = 1000\n",
    "alpha = 0.01\n",
    "w_in, b_in = 0, 0  # Initial weights and bias\n",
    "costs = np.array([])\n",
    "\n",
    "iterations_vs_cost_plot(\n",
    "    x_train, y_train, num_iters, costs, w_in, b_in, alpha, compute_gradient, compute_cost\n",
    ")\n"
   ]
  },
  {
   "cell_type": "markdown",
   "metadata": {},
   "source": [
    "##### We see that the Cost exponentially decreases with the number of iterations of the Gradient Descent algorithm. "
   ]
  }
 ],
 "metadata": {
  "kernelspec": {
   "display_name": "base",
   "language": "python",
   "name": "python3"
  },
  "language_info": {
   "codemirror_mode": {
    "name": "ipython",
    "version": 3
   },
   "file_extension": ".py",
   "mimetype": "text/x-python",
   "name": "python",
   "nbconvert_exporter": "python",
   "pygments_lexer": "ipython3",
   "version": "3.12.4"
  }
 },
 "nbformat": 4,
 "nbformat_minor": 2
}
